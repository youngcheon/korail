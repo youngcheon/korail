{
 "cells": [
  {
   "cell_type": "code",
   "execution_count": 22,
   "metadata": {},
   "outputs": [],
   "source": [
    "from selenium import webdriver\n",
    "import selenium\n",
    "from selenium import webdriver\n",
    "from selenium.webdriver import ActionChains\n",
    "from selenium.webdriver.common.keys import Keys\n",
    "from selenium.webdriver.common.by import By\n",
    "from selenium.webdriver.support import expected_conditions as EC\n",
    "from selenium.webdriver.support.ui import Select\n",
    "from selenium.webdriver.support.ui import WebDriverWait\n",
    "import time\n",
    "from selenium.common.exceptions import TimeoutException\n",
    "from selenium.webdriver.support import expected_conditions as EC\n",
    "from selenium.webdriver.support.ui import WebDriverWait\n",
    "from selenium.webdriver.support.select import Select"
   ]
  },
  {
   "cell_type": "code",
   "execution_count": 13,
   "metadata": {},
   "outputs": [],
   "source": [
    "def send_id_pw(id, pw):\n",
    "    #//*[@id=\"index_center\"]/div[2]/div[1]/form/table/tbody/tr[1]/td/input\n",
    "    #//*[@id=\"index_center\"]/div[2]/div[1]/form/table/tbody/tr[2]/td/input\n",
    "    #//*[@id=\"btnLogin\"]\n",
    "    id_tag = driver.find_element_by_xpath('//*[@id=\"index_center\"]/div[2]/div[1]/form/table/tbody/tr[1]/td/input')\n",
    "    id_tag.send_keys(id)\n",
    "    pw_tag = driver.find_element_by_xpath('//*[@id=\"index_center\"]/div[2]/div[1]/form/table/tbody/tr[2]/td/input')\n",
    "    pw_tag.send_keys(pw)\n",
    "    driver.find_element_by_xpath('//*[@id=\"btnLogin\"]').click()\n",
    "def send_arrive(city):\n",
    "    arrive_tag = driver.find_element_by_xpath('/html/body/form/div/div/div[4]/div/table/tbody/tr[3]/td[1]/input[2]')    \n",
    "    arrive_tag.send_keys(city)\n",
    "    driver.find_element_by_xpath('//*[@id=\"nkhsch\"]/a').click()\n",
    "def drop_down():\n",
    "    select = Select(driver.find_element_by_name('selGoMMDD'))\n",
    "    #2월11일\n",
    "    select.select_by_value('0211')\n",
    "#     select2 = Select(driver.find_element_by_xpath('//*[@id=\"contents_box\"]/div[2]/div/table/tbody/tr[6]/td[2]/select[1]'))\n",
    "#     #2월11일\n",
    "#     select2.select_by_value('06')\n",
    "def getElementByTagAndAttributes(driver, tag, **kwargs):\n",
    "    for element in driver.find_elements_by_tag_name(tag):\n",
    "        for key, value in kwargs.items():\n",
    "            attribute = element.get_attribute(key)\n",
    "            if attribute != value:\n",
    "                break\n",
    "        else:\n",
    "            return element\n"
   ]
  },
  {
   "cell_type": "code",
   "execution_count": 36,
   "metadata": {
    "scrolled": true
   },
   "outputs": [],
   "source": [
    "driver = webdriver.Chrome('C:\\\\Users\\\\young\\\\Downloads\\\\chromedriver\\\\chromedriver.exe')\n",
    "driver.get('http://www.letskorail.com/')\n",
    "driver.implicitly_wait(time_to_wait=10)\n",
    "#팝업 동의\n",
    "driver.find_element_by_xpath('//*[@id=\"btnCommissionAgree\"]').click()\n",
    "driver.implicitly_wait(time_to_wait=5)\n",
    "while 1:       \n",
    "    try:\n",
    "        driver.find_element_by_xpath('//*[@id=\"container\"]/div/div[2]/div[1]/a').click()\n",
    "        time.sleep(1)\n",
    "        alert = driver.switch_to.alert\n",
    "        alert.dismiss()\n",
    "        time.sleep(1)\n",
    "    except:\n",
    "        break\n",
    "    \n",
    "\n",
    "driver.implicitly_wait(time_to_wait=100)\n",
    "\n",
    "\n"
   ]
  },
  {
   "cell_type": "code",
   "execution_count": 37,
   "metadata": {},
   "outputs": [],
   "source": [
    "#로그인\n",
    "driver.implicitly_wait(time_to_wait=100)\n",
    "driver.find_element_by_xpath('//*[@id=\"container\"]/div/div[2]/div[1]/a').click()\n",
    "\n",
    "driver.implicitly_wait(time_to_wait=100)\n",
    "\n",
    "send_id_pw('id','pw')\n",
    "driver.implicitly_wait(time_to_wait=100)"
   ]
  },
  {
   "cell_type": "code",
   "execution_count": 39,
   "metadata": {},
   "outputs": [
    {
     "ename": "AttributeError",
     "evalue": "'NoneType' object has no attribute 'clear'",
     "output_type": "error",
     "traceback": [
      "\u001b[1;31m---------------------------------------------------------------------------\u001b[0m",
      "\u001b[1;31mAttributeError\u001b[0m                            Traceback (most recent call last)",
      "\u001b[1;32m<ipython-input-39-be8e9ef3346f>\u001b[0m in \u001b[0;36m<module>\u001b[1;34m\u001b[0m\n\u001b[0;32m      3\u001b[0m \u001b[0mdriver\u001b[0m\u001b[1;33m.\u001b[0m\u001b[0mimplicitly_wait\u001b[0m\u001b[1;33m(\u001b[0m\u001b[0mtime_to_wait\u001b[0m\u001b[1;33m=\u001b[0m\u001b[1;36m100\u001b[0m\u001b[1;33m)\u001b[0m\u001b[1;33m\u001b[0m\u001b[1;33m\u001b[0m\u001b[0m\n\u001b[0;32m      4\u001b[0m \u001b[0mdes\u001b[0m \u001b[1;33m=\u001b[0m \u001b[0mdriver\u001b[0m\u001b[1;33m.\u001b[0m\u001b[0mfind_element_by_xpath\u001b[0m\u001b[1;33m(\u001b[0m\u001b[1;34m'//*[@id=\"contents_box\"]/div/table/tbody/tr[3]/td[1]/input[1]'\u001b[0m\u001b[1;33m)\u001b[0m\u001b[1;33m\u001b[0m\u001b[1;33m\u001b[0m\u001b[0m\n\u001b[1;32m----> 5\u001b[1;33m \u001b[0mdes\u001b[0m\u001b[1;33m.\u001b[0m\u001b[0mclear\u001b[0m\u001b[1;33m(\u001b[0m\u001b[1;33m)\u001b[0m\u001b[1;33m\u001b[0m\u001b[1;33m\u001b[0m\u001b[0m\n\u001b[0m\u001b[0;32m      6\u001b[0m \u001b[1;33m\u001b[0m\u001b[0m\n\u001b[0;32m      7\u001b[0m \u001b[1;31m# driver.find_element_by_name('txtGoStart').send_keys('서울')\u001b[0m\u001b[1;33m\u001b[0m\u001b[1;33m\u001b[0m\u001b[1;33m\u001b[0m\u001b[0m\n",
      "\u001b[1;31mAttributeError\u001b[0m: 'NoneType' object has no attribute 'clear'"
     ]
    }
   ],
   "source": [
    "# sample = driver.find_element_by_css_selector('a')\n",
    "# driver.execute_script(\"arguments[0].click();\", sample)\n",
    "driver.implicitly_wait(time_to_wait=100)\n",
    "des = driver.find_element_by_xpath('//*[@id=\"contents_box\"]/div/table/tbody/tr[3]/td[1]/input[1]')\n",
    "des.clear()\n",
    "\n",
    "# driver.find_element_by_name('txtGoStart').send_keys('서울')\n",
    "# driver.find_element_by_name('txtGoEnd').clear()\n",
    "# driver.find_element_by_name('txtGoEnd').send_keys('순천')\n",
    "\n",
    "\n",
    "# #목록선택\n",
    "# drop_down()\n",
    "# driver.implicitly_wait(time_to_wait=5)\n",
    "# # #예약요청\n",
    "# # driver.find_element_by_xpath('//*[@id=\"btnReserve\"]').click()"
   ]
  },
  {
   "cell_type": "code",
   "execution_count": null,
   "metadata": {},
   "outputs": [],
   "source": []
  }
 ],
 "metadata": {
  "kernelspec": {
   "display_name": "Python 3",
   "language": "python",
   "name": "python3"
  },
  "language_info": {
   "codemirror_mode": {
    "name": "ipython",
    "version": 3
   },
   "file_extension": ".py",
   "mimetype": "text/x-python",
   "name": "python",
   "nbconvert_exporter": "python",
   "pygments_lexer": "ipython3",
   "version": "3.8.5"
  }
 },
 "nbformat": 4,
 "nbformat_minor": 4
}
